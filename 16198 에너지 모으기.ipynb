{
 "cells": [
  {
   "cell_type": "markdown",
   "metadata": {},
   "source": [
    "* 브루트 포스 문제 "
   ]
  },
  {
   "cell_type": "code",
   "execution_count": 5,
   "metadata": {},
   "outputs": [
    {
     "name": "stdout",
     "output_type": "stream",
     "text": [
      "4\n",
      "1 2 3 4\n"
     ]
    }
   ],
   "source": [
    "n=int(input())\n",
    "w=list(map(int,input().split()))\n",
    "s=0"
   ]
  },
  {
   "cell_type": "code",
   "execution_count": 8,
   "metadata": {},
   "outputs": [],
   "source": [
    "def EN(n):\n",
    "    a=[]\n",
    "    global s\n",
    "    if n==3:\n",
    "        s+=w[0]*w[2]\n",
    "        return s \n",
    "    else: \n",
    "        for i in range(1,n-1):\n",
    "            a.append(w[i-1]*w[i+1])\n",
    "        k=a.index(max(a))\n",
    "        del w[w.index(k+1)]\n",
    "        s+=max(a)\n",
    "        n-=1\n",
    "        EN(n)"
   ]
  },
  {
   "cell_type": "code",
   "execution_count": null,
   "metadata": {},
   "outputs": [],
   "source": [
    "def EN(n):\n",
    "    a=[]\n",
    "    global s\n",
    "    if n==3:\n",
    "        s+=w[0]*w[2]\n",
    "        return s \n",
    "    else: \n",
    "        for i in range(1,n-1):\n",
    "            a.append(w[i-1]*w[i+1])\n",
    "        k=a.index(max(a))\n",
    "        del w[w.index(k+1)]\n",
    "        s+=max(a)\n",
    "        n-=1\n",
    "        EN(n)\n",
    "n=int(input())\n",
    "w=list(map(int,input().split()))\n",
    "s=0\n",
    "EN(4)\n",
    "print(s)"
   ]
  },
  {
   "cell_type": "code",
   "execution_count": 9,
   "metadata": {},
   "outputs": [],
   "source": [
    "EN(4)"
   ]
  },
  {
   "cell_type": "code",
   "execution_count": 10,
   "metadata": {},
   "outputs": [
    {
     "name": "stdout",
     "output_type": "stream",
     "text": [
      "12\n"
     ]
    }
   ],
   "source": [
    "print(s)"
   ]
  }
 ],
 "metadata": {
  "kernelspec": {
   "display_name": "Python 3",
   "language": "python",
   "name": "python3"
  },
  "language_info": {
   "codemirror_mode": {
    "name": "ipython",
    "version": 3
   },
   "file_extension": ".py",
   "mimetype": "text/x-python",
   "name": "python",
   "nbconvert_exporter": "python",
   "pygments_lexer": "ipython3",
   "version": "3.8.3"
  }
 },
 "nbformat": 4,
 "nbformat_minor": 4
}
