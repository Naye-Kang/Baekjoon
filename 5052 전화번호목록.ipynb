{
 "cells": [
  {
   "cell_type": "code",
   "execution_count": null,
   "metadata": {},
   "outputs": [],
   "source": [
    "from sys import stdin\n",
    "T=int(input())\n",
    "\n",
    "def main():\n",
    "    a=int(input())\n",
    "    tel=[]\n",
    "    answer=True\n",
    "    for i in range(a):\n",
    "        tel.append(input())\n",
    "    tel.sort()\n",
    "    for i in range(len(tel)-1):\n",
    "        if tel[i] in tel[i+1]:\n",
    "            answer=False\n",
    "            break\n",
    "    print(answer)\n",
    "\n",
    "for _ in range(T):\n",
    "    main()"
   ]
  }
 ],
 "metadata": {
  "kernelspec": {
   "display_name": "Python 3",
   "language": "python",
   "name": "python3"
  },
  "language_info": {
   "codemirror_mode": {
    "name": "ipython",
    "version": 3
   },
   "file_extension": ".py",
   "mimetype": "text/x-python",
   "name": "python",
   "nbconvert_exporter": "python",
   "pygments_lexer": "ipython3",
   "version": "3.8.3"
  }
 },
 "nbformat": 4,
 "nbformat_minor": 4
}
