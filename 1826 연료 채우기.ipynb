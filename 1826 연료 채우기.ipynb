{
 "cells": [
  {
   "cell_type": "code",
   "execution_count": 6,
   "metadata": {},
   "outputs": [
    {
     "name": "stdout",
     "output_type": "stream",
     "text": [
      "4\n",
      "4 4\n",
      "5 2\n",
      "11 5\n",
      "15 10\n",
      "25 10\n",
      "0\n"
     ]
    }
   ],
   "source": [
    "N=int(input())\n",
    "S=[]\n",
    "for _ in range(N):\n",
    "    a,b=map(int,input().split())\n",
    "    S.append([a,b])\n",
    "dis,oil=map(int,input().split())    \n",
    "S=sorted(S,key=lambda x:x[0])\n",
    "a=0\n",
    "n=0\n",
    "\n",
    "for i in range(len(S)):   \n",
    "    if (S[i][0]-a) < S[i][1]:\n",
    "        oil+=S[i][1]-(S[i][0]-a)\n",
    "        n+=1\n",
    "        a=S[0]\n",
    "    elif a==25:\n",
    "        print(n)\n",
    "    else : \n",
    "        print(-1)\n",
    "\n",
    "print(n)"
   ]
  },
  {
   "cell_type": "code",
   "execution_count": null,
   "metadata": {},
   "outputs": [],
   "source": []
  }
 ],
 "metadata": {
  "kernelspec": {
   "display_name": "Python 3",
   "language": "python",
   "name": "python3"
  },
  "language_info": {
   "codemirror_mode": {
    "name": "ipython",
    "version": 3
   },
   "file_extension": ".py",
   "mimetype": "text/x-python",
   "name": "python",
   "nbconvert_exporter": "python",
   "pygments_lexer": "ipython3",
   "version": "3.8.3"
  }
 },
 "nbformat": 4,
 "nbformat_minor": 4
}
