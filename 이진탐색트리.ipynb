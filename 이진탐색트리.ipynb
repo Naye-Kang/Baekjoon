{
 "cells": [
  {
   "cell_type": "code",
   "execution_count": null,
   "metadata": {},
   "outputs": [],
   "source": [
    "class node:\n",
    "    def __init__(self, key, data):\n",
    "        self.key=key\n",
    "        self.data=data\n",
    "        self.left=None\n",
    "        self.right=None"
   ]
  },
  {
   "cell_type": "code",
   "execution_count": null,
   "metadata": {},
   "outputs": [],
   "source": [
    "class BinSearchTree:\n",
    "    def __init__(self):\n",
    "        self.root=None\n",
    "        \n",
    "    def inorder(self):\n",
    "        if self.root:\n",
    "            return self.root.inorder()\n",
    "        else:\n",
    "            return []\n",
    "        \n",
    "    def min_(self):\n",
    "        if self.root:\n",
    "            return self.root.min()\n",
    "        else:\n",
    "            return None\n",
    "        \n",
    "    def max_(self):\n",
    "        if self.root:\n",
    "            return self.root.max()\n",
    "        else:\n",
    "            return None\n",
    "        \n",
    "    def lookup(self,key):\n",
    "        if self.root:\n",
    "            return self.root.lookup(key)\n",
    "        else:\n",
    "            return None,None\n",
    "        \n",
    "    \n",
    "    "
   ]
  },
  {
   "cell_type": "code",
   "execution_count": null,
   "metadata": {},
   "outputs": [],
   "source": [
    "# In Order Traversal\n",
    "class Node:\n",
    "    def inorder(self):\n",
    "        traversal=[]\n",
    "        if self.left:\n",
    "            traveral+=self.left.inorder()\n",
    "        traversal.append(self)\n",
    "        if self.right:\n",
    "            traveral+=self.left.inorder()\n",
    "        return traversal \n",
    "    \n",
    "    def lookup(self,key,parent=None):\n",
    "        if key < self.key:\n",
    "            if self.left:\n",
    "                return self.left.lookup(key,self)\n",
    "            else: \n",
    "                return None, None \n",
    "        elif key > self.key:\n",
    "            if self.right:\n",
    "                return self.right.lookup(key,self)\n",
    "            else:\n",
    "                return None, None\n",
    "        else: \n",
    "            return self,parent \n",
    "    def insert(self,key,data):\n",
    "        if key < self.key:\n",
    "            if self.root:\n",
    "                self.root.insert(key,data)\n",
    "            else :\n",
    "                self.root=Node(key,data)\n",
    "        elif key > self.key: \n",
    "        else:\n",
    "            raise KeyError('...')"
   ]
  }
 ],
 "metadata": {
  "kernelspec": {
   "display_name": "Python 3",
   "language": "python",
   "name": "python3"
  },
  "language_info": {
   "codemirror_mode": {
    "name": "ipython",
    "version": 3
   },
   "file_extension": ".py",
   "mimetype": "text/x-python",
   "name": "python",
   "nbconvert_exporter": "python",
   "pygments_lexer": "ipython3",
   "version": "3.8.3"
  }
 },
 "nbformat": 4,
 "nbformat_minor": 4
}
