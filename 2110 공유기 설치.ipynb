{
 "cells": [
  {
   "cell_type": "code",
   "execution_count": null,
   "metadata": {},
   "outputs": [],
   "source": [
    "# 2110 공유기 설치\n",
    "n,c = list(map(int, input().split()))\n",
    "array = []\n",
    "for _ in range(n):\n",
    "    array.append(int(input())\n",
    "                 \n",
    "array.sort()\n",
    "start= array[1] - array[0]\n",
    "end = array[-1] - array[0]\n",
    "result =0\n",
    "                 \n",
    "while(start<= end): \n",
    "     mid = (start+end)//2 \n",
    "     value = array[0]\n",
    "     count =1\n",
    "     for i in range(1, len(array)):\n",
    "        if array[i] >= value + mid:\n",
    "            value = array[i]\n",
    "            count+=1\n",
    "        if count>=c: \n",
    "            start= mid +1\n",
    "            result = mid\n",
    "        else:\n",
    "            end = mid -1\n",
    " print(result)"
   ]
  }
 ],
 "metadata": {
  "kernelspec": {
   "display_name": "Python 3",
   "language": "python",
   "name": "python3"
  },
  "language_info": {
   "codemirror_mode": {
    "name": "ipython",
    "version": 3
   },
   "file_extension": ".py",
   "mimetype": "text/x-python",
   "name": "python",
   "nbconvert_exporter": "python",
   "pygments_lexer": "ipython3",
   "version": "3.8.3"
  }
 },
 "nbformat": 4,
 "nbformat_minor": 4
}
