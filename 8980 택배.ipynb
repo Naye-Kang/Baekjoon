{
 "cells": [
  {
   "cell_type": "code",
   "execution_count": null,
   "metadata": {},
   "outputs": [],
   "source": [
    "* 멀리 보내는 것은 최소한으로 되도록 한다. "
   ]
  },
  {
   "cell_type": "code",
   "execution_count": 6,
   "metadata": {},
   "outputs": [
    {
     "ename": "IndentationError",
     "evalue": "expected an indented block (<ipython-input-6-76d699684108>, line 15)",
     "output_type": "error",
     "traceback": [
      "\u001b[1;36m  File \u001b[1;32m\"<ipython-input-6-76d699684108>\"\u001b[1;36m, line \u001b[1;32m15\u001b[0m\n\u001b[1;33m    for i in range(N):\u001b[0m\n\u001b[1;37m    ^\u001b[0m\n\u001b[1;31mIndentationError\u001b[0m\u001b[1;31m:\u001b[0m expected an indented block\n"
     ]
    }
   ],
   "source": [
    "N,C=map(int,input().split())\n",
    "M=int(input())\n",
    "A=[]\n",
    "for _ in range(M):\n",
    "    depart,arrive,num = map(int,input().split())\n",
    "    A.append([depart,arrive,num])\n",
    "\n",
    "A=sorted(A, key=lambda x:(x[0],x[1]))\n",
    "num=0\n",
    "\n",
    "if max(A[0]) == 1:\n",
    "    print(A[2])\n",
    "else: \n",
    "    \n",
    "for i in range(N):\n",
    "    \n",
    "        if num < C:\n",
    "            num+=A[2]\n",
    "        else:\n",
    "            break\n",
    "    "
   ]
  },
  {
   "cell_type": "code",
   "execution_count": null,
   "metadata": {},
   "outputs": [],
   "source": [
    "\n",
    "for i in len(N):\n",
    "    num=0\n",
    "    if num <= 40: \n",
    "        num+=A[\n",
    "    for j in range(len(N)-1):\n",
    "        if num <=40:\n",
    "            num+=A[i][j]\n",
    "        else: \n",
    "            break"
   ]
  }
 ],
 "metadata": {
  "kernelspec": {
   "display_name": "Python 3",
   "language": "python",
   "name": "python3"
  },
  "language_info": {
   "codemirror_mode": {
    "name": "ipython",
    "version": 3
   },
   "file_extension": ".py",
   "mimetype": "text/x-python",
   "name": "python",
   "nbconvert_exporter": "python",
   "pygments_lexer": "ipython3",
   "version": "3.8.3"
  }
 },
 "nbformat": 4,
 "nbformat_minor": 4
}
