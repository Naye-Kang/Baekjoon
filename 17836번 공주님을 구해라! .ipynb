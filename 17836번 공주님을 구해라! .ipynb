{
 "cells": [
  {
   "cell_type": "code",
   "execution_count": null,
   "metadata": {},
   "outputs": [],
   "source": [
    "N,M,T = map(int,input().split())\n",
    "L=[list(map(int,input().split())) for _ in range(N)]\n",
    "\n",
    "a=0\n",
    "b=0\n",
    "k=L[a][b]\n",
    "\n",
    "def pricess():\n",
    "    if T > 0:\n",
    "        for a not \n",
    "        if L[a+1][b]==0:\n",
    "            if L[a][b+1] == 1:\n",
    "                a+=1\n",
    "                T-=1\n",
    "            elif L[a][b+1]==2:\n",
    "                k=L[a][b+1]\n",
    "                T+=(N-a)+(M-b)\n",
    "            else:\n",
    "                \\\n",
    "        elif L[a+1][b]==1:\n",
    "            if L[a][b+1] == 1:\n",
    "                k=L[a+1][b]\n",
    "                T-=1\n",
    "            elif L[a][b+1]==2:\n",
    "                k=L[a][b+1]\n",
    "                T+=(N-a)+(M-b)\n",
    "            else: \n",
    "    else : \n",
    "        print('Fail')\n",
    "        \n",
    "            \n",
    "        if L[a+1][b] == 0 & L[a][b+1] == 0:\n",
    "        elif L[a+1][b] == 0 & L[a][b+1] == 1:\n",
    "            k=L[a+1][b]\n",
    "            T-=1\n",
    "        elif L[a+1][b] == 0 & L[a][b+1] == 2:\n",
    "            k=L[a][b+1]\n",
    "            T+=(N-a)+(M-b)        \n",
    "        \n",
    "        \n",
    "        \n",
    "\n",
    "                \n",
    "        \n"
   ]
  }
 ],
 "metadata": {
  "kernelspec": {
   "display_name": "Python 3",
   "language": "python",
   "name": "python3"
  },
  "language_info": {
   "codemirror_mode": {
    "name": "ipython",
    "version": 3
   },
   "file_extension": ".py",
   "mimetype": "text/x-python",
   "name": "python",
   "nbconvert_exporter": "python",
   "pygments_lexer": "ipython3",
   "version": "3.8.3"
  }
 },
 "nbformat": 4,
 "nbformat_minor": 4
}
