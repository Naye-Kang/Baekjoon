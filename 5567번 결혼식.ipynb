{
 "cells": [
  {
   "cell_type": "code",
   "execution_count": null,
   "metadata": {},
   "outputs": [],
   "source": [
    "n=int(input())\n",
    "m=int(input())\n",
    "matrix=[[0]*(n+1) for _ in range(n+1)]\n",
    "\n",
    "for _ in range(m):\n",
    "    a,b=map(int,input().split())\n",
    "    matrix[a][b]=1\n",
    "    matrix[b][a]=1\n",
    "\n",
    "start=1\n",
    "\n",
    "def bfs():\n",
    "    num=[]\n",
    "    que=[]\n",
    "    \n",
    "    for i in range(2,n+1):\n",
    "        if matrix[start][i] == 1:\n",
    "            num.append(i)\n",
    "            \n",
    "    for a in num:\n",
    "        for j in range(2,n+1):\n",
    "            if matrix[a][j] == 1 & (j not in num):\n",
    "                que.append[j]\n",
    "    \n",
    "    print(len(num)+len(que))\n",
    "\n",
    "bfs()\n",
    "        \n"
   ]
  },
  {
   "cell_type": "code",
   "execution_count": null,
   "metadata": {},
   "outputs": [],
   "source": []
  }
 ],
 "metadata": {
  "kernelspec": {
   "display_name": "Python 3",
   "language": "python",
   "name": "python3"
  },
  "language_info": {
   "codemirror_mode": {
    "name": "ipython",
    "version": 3
   },
   "file_extension": ".py",
   "mimetype": "text/x-python",
   "name": "python",
   "nbconvert_exporter": "python",
   "pygments_lexer": "ipython3",
   "version": "3.8.3"
  }
 },
 "nbformat": 4,
 "nbformat_minor": 4
}
