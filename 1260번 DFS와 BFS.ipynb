{
 "cells": [
  {
   "cell_type": "code",
   "execution_count": null,
   "metadata": {},
   "outputs": [],
   "source": [
    "from sys import stdin\n",
    "n, m, v = map(int, stdin.readline().split())\n",
    "matrix = [[0] * (n + 1) for _ in range(n + 1)]\n",
    "\n",
    "for _ in range(m):\n",
    "    line = list(map(int, stdin.readline().split()))\n",
    "    matrix[line[0]][line[1]] = 1\n",
    "    matrix[line[1]][line[0]] = 1\n",
    "\n",
    "def bfs(start):\n",
    "    visited = [start]\n",
    "    queue = [start]\n",
    "    while queue:\n",
    "        n = queue.pop(0)\n",
    "        for c in range(len(matrix[start])):\n",
    "            if matrix[n][c] == 1 and (c not in visited):\n",
    "                visited.append(c)\n",
    "                queue.append(c)\n",
    "    return visited\n",
    "\n",
    "def dfs(start, visited):\n",
    "    visited += [start]\n",
    "    for c in range(len(matrix[start])):\n",
    "        if matrix[start][c] == 1 and (c not in visited):\n",
    "            dfs(c, visited)\n",
    "    return visited\n",
    "\n",
    "print(*dfs(v,[]))\n",
    "print(*bfs(v))"
   ]
  }
 ],
 "metadata": {
  "kernelspec": {
   "display_name": "Python 3",
   "language": "python",
   "name": "python3"
  },
  "language_info": {
   "codemirror_mode": {
    "name": "ipython",
    "version": 3
   },
   "file_extension": ".py",
   "mimetype": "text/x-python",
   "name": "python",
   "nbconvert_exporter": "python",
   "pygments_lexer": "ipython3",
   "version": "3.8.3"
  }
 },
 "nbformat": 4,
 "nbformat_minor": 4
}
