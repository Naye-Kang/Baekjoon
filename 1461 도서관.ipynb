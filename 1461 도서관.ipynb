{
 "cells": [
  {
   "cell_type": "markdown",
   "metadata": {},
   "source": [
    "* 세준 : 0 , 책 : 0 \n",
    "* 책이 지금 0에 있는데 책을 제자리에 두는 최소 걸음 수 \n",
    "* M : 세준이 한번에 들 수 있는 책의 최대 개수\n",
    "* 양수, 음수 나누기 \n",
    "* 양수 중에서 차이가 최소가 되는 2수 뽑기 / 음수 중에서 차이가 최소가 되는 두수 뽑기 \n",
    "* 양수와 음수를 각각 정렬, 절대값이 큰 수대로 없애고 \n",
    "* -39 -37 -29 -28 -6 2 11\n",
    "* 가장 절대값이 큰 거를 2개씩  \n"
   ]
  },
  {
   "cell_type": "code",
   "execution_count": null,
   "metadata": {},
   "outputs": [],
   "source": [
    "N,M=map(int,input().split())\n",
    "B=list(map(int,input().split()))\n",
    "\n",
    "B_p=[]\n",
    "B_m=[]\n",
    "\n",
    "for i in B:\n",
    "    if i >=0:\n",
    "        B_p.append[i]\n",
    "    else: \n",
    "        B_m.append[i]\n",
    "\n",
    "distance=[]\n",
    "        \n",
    "B_p=sorted(B_p)\n",
    "B_m=sorted(B_m)\n",
    "\n",
    "\n",
    "\n",
    "\n",
    "a,b-a,b,c,d-c,d,"
   ]
  },
  {
   "cell_type": "code",
   "execution_count": null,
   "metadata": {},
   "outputs": [],
   "source": []
  },
  {
   "cell_type": "code",
   "execution_count": 7,
   "metadata": {},
   "outputs": [
    {
     "data": {
      "text/plain": [
       "85"
      ]
     },
     "execution_count": 7,
     "metadata": {},
     "output_type": "execute_result"
    }
   ],
   "source": []
  },
  {
   "cell_type": "code",
   "execution_count": null,
   "metadata": {},
   "outputs": [],
   "source": []
  }
 ],
 "metadata": {
  "kernelspec": {
   "display_name": "Python 3",
   "language": "python",
   "name": "python3"
  },
  "language_info": {
   "codemirror_mode": {
    "name": "ipython",
    "version": 3
   },
   "file_extension": ".py",
   "mimetype": "text/x-python",
   "name": "python",
   "nbconvert_exporter": "python",
   "pygments_lexer": "ipython3",
   "version": "3.8.3"
  }
 },
 "nbformat": 4,
 "nbformat_minor": 4
}
