{
 "cells": [
  {
   "cell_type": "code",
   "execution_count": null,
   "metadata": {},
   "outputs": [],
   "source": [
    "from sys import stdin\n",
    "input=stdin.readline\n",
    "\n",
    "N=int(input())\n",
    "Z=list(map(int,input().split()))\n",
    "M=int(input())\n",
    "O=list(map(int,input().split()))\n",
    "Z.sort()\n",
    "O.sort()\n",
    "F=''\n",
    "for i in O:\n",
    "    a=Z.count(i)\n",
    "    F+=str(a)+' '\n",
    "print(F)"
   ]
  },
  {
   "cell_type": "code",
   "execution_count": 11,
   "metadata": {},
   "outputs": [
    {
     "name": "stdout",
     "output_type": "stream",
     "text": [
      "\n"
     ]
    }
   ],
   "source": [
    "# 10816 숫자카드 2\n",
    "from sys import stdin\n",
    "a = stdin.readline()\n",
    "N = sorted(map(int,stdin.readline().split()))\n",
    "b = stdin.readline()\n",
    "M = map(int,stdin.readline().split())\n",
    "\n",
    "def binary(n, N, start, end):\n",
    "    if start > end:\n",
    "        return 0\n",
    "    m = (start+end)//2\n",
    "    if n == N[m]:\n",
    "        return N[start:end+1].count(n)\n",
    "    elif n < N[m]:\n",
    "        return binary(n, N, start, m-1)\n",
    "    else:\n",
    "        return binary(n, N, m+1, end)\n",
    "\n",
    "n_dic = {}\n",
    "for n in N:\n",
    "    start = 0\n",
    "    end = len(N) - 1\n",
    "    if n not in n_dic:\n",
    "        n_dic[n] = binary(n, N, start, end)\n",
    "\n",
    "print(' '.join(str(n_dic[x]) if x in n_dic else '0' for x in M ))"
   ]
  }
 ],
 "metadata": {
  "kernelspec": {
   "display_name": "Python 3",
   "language": "python",
   "name": "python3"
  },
  "language_info": {
   "codemirror_mode": {
    "name": "ipython",
    "version": 3
   },
   "file_extension": ".py",
   "mimetype": "text/x-python",
   "name": "python",
   "nbconvert_exporter": "python",
   "pygments_lexer": "ipython3",
   "version": "3.8.3"
  }
 },
 "nbformat": 4,
 "nbformat_minor": 4
}
