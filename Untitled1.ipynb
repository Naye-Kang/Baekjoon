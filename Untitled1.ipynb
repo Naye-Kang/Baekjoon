{
 "cells": [
  {
   "cell_type": "code",
   "execution_count": 17,
   "metadata": {},
   "outputs": [
    {
     "name": "stdout",
     "output_type": "stream",
     "text": [
      "3\n",
      "1 3\n",
      "2 4\n",
      "3 5\n",
      "2\n"
     ]
    }
   ],
   "source": [
    "from sys import stdin\n",
    "input=stdin.readline\n",
    "\n",
    "N=int(input())\n",
    "lec_time=[]\n",
    "\n",
    "for i in range(N):\n",
    "    S,T=map(int,input().split())\n",
    "    lec_time.append([S,T])\n",
    "    \n",
    "lec_time=sorted(lec_time,key=lambda x:(x[0],x[1]))\n",
    "\n",
    "max=lec_time[0][1]\n",
    "num=1\n",
    "for i in range(len(lec_time)):\n",
    "    if lec_time[i][0]>=max:\n",
    "        num+=1\n",
    "        max=lec_time[i][1]\n",
    "    else: \n",
    "        pass\n",
    "print(num)"
   ]
  },
  {
   "cell_type": "code",
   "execution_count": null,
   "metadata": {},
   "outputs": [],
   "source": []
  }
 ],
 "metadata": {
  "kernelspec": {
   "display_name": "Python 3",
   "language": "python",
   "name": "python3"
  },
  "language_info": {
   "codemirror_mode": {
    "name": "ipython",
    "version": 3
   },
   "file_extension": ".py",
   "mimetype": "text/x-python",
   "name": "python",
   "nbconvert_exporter": "python",
   "pygments_lexer": "ipython3",
   "version": "3.8.3"
  }
 },
 "nbformat": 4,
 "nbformat_minor": 4
}
