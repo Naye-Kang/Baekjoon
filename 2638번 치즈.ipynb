{
 "cells": [
  {
   "cell_type": "code",
   "execution_count": 13,
   "metadata": {},
   "outputs": [
    {
     "name": "stdout",
     "output_type": "stream",
     "text": [
      "8 9\n",
      "0 0 0 0 0 0 0 0 0\n",
      "0 0 0 1 1 0 0 0 0\n",
      "0 0 0 1 1 0 1 1 0\n",
      "0 0 1 1 1 1 1 1 0\n",
      "0 0 1 1 1 1 1 0 0\n",
      "0 0 1 1 0 1 1 0 0\n",
      "0 0 0 0 0 0 0 0 0\n",
      "0 0 0 0 0 0 0 0 0\n"
     ]
    }
   ],
   "source": [
    "N,M=map(int,input().split())\n",
    "matrix=[]\n",
    "\n",
    "for _ in range(N):\n",
    "    a=[list(map(int,input().split()))]\n",
    "    matrix.append(a)\n",
    "\n",
    "\n",
    "def cheese():\n",
    "    for _ in range(N):\n",
    "        for i in range(M):\n",
    "            if matrix[N][i] == 1:\n",
    "                if matrix[N-1][i]+matrix[N+1][i]+matrix[N][i+1]+matrix[N][i-1]<=2:\n",
    "                    matrix[N][i]=0\n",
    "                else :\n",
    "                    return matrix\n",
    "            else:\n",
    "                return matrix                \n",
    "\n",
    "cheese()"
   ]
  },
  {
   "cell_type": "code",
   "execution_count": null,
   "metadata": {},
   "outputs": [],
   "source": []
  }
 ],
 "metadata": {
  "kernelspec": {
   "display_name": "Python 3",
   "language": "python",
   "name": "python3"
  },
  "language_info": {
   "codemirror_mode": {
    "name": "ipython",
    "version": 3
   },
   "file_extension": ".py",
   "mimetype": "text/x-python",
   "name": "python",
   "nbconvert_exporter": "python",
   "pygments_lexer": "ipython3",
   "version": "3.8.3"
  }
 },
 "nbformat": 4,
 "nbformat_minor": 4
}
